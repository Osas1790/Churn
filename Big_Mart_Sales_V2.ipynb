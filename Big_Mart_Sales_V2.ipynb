{
  "nbformat": 4,
  "nbformat_minor": 0,
  "metadata": {
    "kernelspec": {
      "display_name": "Python 3",
      "language": "python",
      "name": "python3"
    },
    "language_info": {
      "codemirror_mode": {
        "name": "ipython",
        "version": 3
      },
      "file_extension": ".py",
      "mimetype": "text/x-python",
      "name": "python",
      "nbconvert_exporter": "python",
      "pygments_lexer": "ipython3",
      "version": "3.7.4"
    },
    "colab": {
      "name": "Big Mart Sales V2.ipynb",
      "provenance": []
    }
  },
  "cells": [
    {
      "cell_type": "markdown",
      "metadata": {
        "id": "lnJD7zX0Cm--"
      },
      "source": [
        "## Problem Statement\n",
        "\n",
        "The data scientists at BigMart have collected 2013 sales data for 1559 products across 10 stores in different cities. Also, certain attributes of each product and store have been defined. The aim is to build a predictive model and find out the sales of each product at a particular store.\n",
        "\n",
        "Using this model, BigMart will try to understand the properties of products and stores which play a key role in increasing sales.\n",
        "\n",
        "\n",
        "### Hypothesis Generation\n",
        "\n",
        "Make it a practice to do this before solving any ML problem. \n",
        "Ideally,before seeing the data or else, you might end up with biased hypotheses.\n",
        "\n",
        "What could affect the target variable (sales)?\n",
        "\n",
        "1. Time of week : Weekends usually are more busy\n",
        "2. Time of day  : Higher sales in the mornings and late evenings\n",
        "3. Time of year : Higher sales at end of the year \n",
        "4. Store size and location\n",
        "5. Items with more shelf space"
      ]
    },
    {
      "cell_type": "code",
      "metadata": {
        "id": "5qDPyQ2OCm_A"
      },
      "source": [
        "import numpy as np\n",
        "import pandas as pd\n",
        "from sklearn.preprocessing import LabelEncoder"
      ],
      "execution_count": null,
      "outputs": []
    },
    {
      "cell_type": "code",
      "metadata": {
        "id": "5ZMQlDSICm_B"
      },
      "source": [
        "# For implementing Linear Regression\n",
        "from sklearn.linear_model import LinearRegression\n",
        "\n",
        "# Evaluation (to test the reliability of regression model)\n",
        "from sklearn.metrics import r2_score, mean_squared_error\n",
        "from math import sqrt"
      ],
      "execution_count": null,
      "outputs": []
    },
    {
      "cell_type": "code",
      "metadata": {
        "id": "zayDjqAjCm_B"
      },
      "source": [
        "train = pd.read_csv('bigmart_train.csv')"
      ],
      "execution_count": null,
      "outputs": []
    },
    {
      "cell_type": "code",
      "metadata": {
        "id": "wURoA9KzCm_C",
        "outputId": "ce78df08-96cf-47b2-d264-c250b7fde3ef"
      },
      "source": [
        "train.head(10)"
      ],
      "execution_count": null,
      "outputs": [
        {
          "data": {
            "text/html": [
              "<div>\n",
              "<style scoped>\n",
              "    .dataframe tbody tr th:only-of-type {\n",
              "        vertical-align: middle;\n",
              "    }\n",
              "\n",
              "    .dataframe tbody tr th {\n",
              "        vertical-align: top;\n",
              "    }\n",
              "\n",
              "    .dataframe thead th {\n",
              "        text-align: right;\n",
              "    }\n",
              "</style>\n",
              "<table border=\"1\" class=\"dataframe\">\n",
              "  <thead>\n",
              "    <tr style=\"text-align: right;\">\n",
              "      <th></th>\n",
              "      <th>Item_Identifier</th>\n",
              "      <th>Item_Weight</th>\n",
              "      <th>Item_Fat_Content</th>\n",
              "      <th>Item_Visibility</th>\n",
              "      <th>Item_Type</th>\n",
              "      <th>Item_MRP</th>\n",
              "      <th>Outlet_Identifier</th>\n",
              "      <th>Outlet_Establishment_Year</th>\n",
              "      <th>Outlet_Size</th>\n",
              "      <th>Outlet_Location_Type</th>\n",
              "      <th>Outlet_Type</th>\n",
              "      <th>Item_Outlet_Sales</th>\n",
              "    </tr>\n",
              "  </thead>\n",
              "  <tbody>\n",
              "    <tr>\n",
              "      <th>0</th>\n",
              "      <td>FDA15</td>\n",
              "      <td>9.300</td>\n",
              "      <td>Low Fat</td>\n",
              "      <td>0.016047</td>\n",
              "      <td>Dairy</td>\n",
              "      <td>249.8092</td>\n",
              "      <td>OUT049</td>\n",
              "      <td>1999</td>\n",
              "      <td>Medium</td>\n",
              "      <td>Tier 1</td>\n",
              "      <td>Supermarket Type1</td>\n",
              "      <td>3735.1380</td>\n",
              "    </tr>\n",
              "    <tr>\n",
              "      <th>1</th>\n",
              "      <td>DRC01</td>\n",
              "      <td>5.920</td>\n",
              "      <td>Regular</td>\n",
              "      <td>0.019278</td>\n",
              "      <td>Soft Drinks</td>\n",
              "      <td>48.2692</td>\n",
              "      <td>OUT018</td>\n",
              "      <td>2009</td>\n",
              "      <td>Medium</td>\n",
              "      <td>Tier 3</td>\n",
              "      <td>Supermarket Type2</td>\n",
              "      <td>443.4228</td>\n",
              "    </tr>\n",
              "    <tr>\n",
              "      <th>2</th>\n",
              "      <td>FDN15</td>\n",
              "      <td>17.500</td>\n",
              "      <td>Low Fat</td>\n",
              "      <td>0.016760</td>\n",
              "      <td>Meat</td>\n",
              "      <td>141.6180</td>\n",
              "      <td>OUT049</td>\n",
              "      <td>1999</td>\n",
              "      <td>Medium</td>\n",
              "      <td>Tier 1</td>\n",
              "      <td>Supermarket Type1</td>\n",
              "      <td>2097.2700</td>\n",
              "    </tr>\n",
              "    <tr>\n",
              "      <th>3</th>\n",
              "      <td>FDX07</td>\n",
              "      <td>19.200</td>\n",
              "      <td>Regular</td>\n",
              "      <td>0.000000</td>\n",
              "      <td>Fruits and Vegetables</td>\n",
              "      <td>182.0950</td>\n",
              "      <td>OUT010</td>\n",
              "      <td>1998</td>\n",
              "      <td>NaN</td>\n",
              "      <td>Tier 3</td>\n",
              "      <td>Grocery Store</td>\n",
              "      <td>732.3800</td>\n",
              "    </tr>\n",
              "    <tr>\n",
              "      <th>4</th>\n",
              "      <td>NCD19</td>\n",
              "      <td>8.930</td>\n",
              "      <td>Low Fat</td>\n",
              "      <td>0.000000</td>\n",
              "      <td>Household</td>\n",
              "      <td>53.8614</td>\n",
              "      <td>OUT013</td>\n",
              "      <td>1987</td>\n",
              "      <td>High</td>\n",
              "      <td>Tier 3</td>\n",
              "      <td>Supermarket Type1</td>\n",
              "      <td>994.7052</td>\n",
              "    </tr>\n",
              "    <tr>\n",
              "      <th>5</th>\n",
              "      <td>FDP36</td>\n",
              "      <td>10.395</td>\n",
              "      <td>Regular</td>\n",
              "      <td>0.000000</td>\n",
              "      <td>Baking Goods</td>\n",
              "      <td>51.4008</td>\n",
              "      <td>OUT018</td>\n",
              "      <td>2009</td>\n",
              "      <td>Medium</td>\n",
              "      <td>Tier 3</td>\n",
              "      <td>Supermarket Type2</td>\n",
              "      <td>556.6088</td>\n",
              "    </tr>\n",
              "    <tr>\n",
              "      <th>6</th>\n",
              "      <td>FDO10</td>\n",
              "      <td>13.650</td>\n",
              "      <td>Regular</td>\n",
              "      <td>0.012741</td>\n",
              "      <td>Snack Foods</td>\n",
              "      <td>57.6588</td>\n",
              "      <td>OUT013</td>\n",
              "      <td>1987</td>\n",
              "      <td>High</td>\n",
              "      <td>Tier 3</td>\n",
              "      <td>Supermarket Type1</td>\n",
              "      <td>343.5528</td>\n",
              "    </tr>\n",
              "    <tr>\n",
              "      <th>7</th>\n",
              "      <td>FDP10</td>\n",
              "      <td>NaN</td>\n",
              "      <td>Low Fat</td>\n",
              "      <td>0.127470</td>\n",
              "      <td>Snack Foods</td>\n",
              "      <td>107.7622</td>\n",
              "      <td>OUT027</td>\n",
              "      <td>1985</td>\n",
              "      <td>Medium</td>\n",
              "      <td>Tier 3</td>\n",
              "      <td>Supermarket Type3</td>\n",
              "      <td>4022.7636</td>\n",
              "    </tr>\n",
              "    <tr>\n",
              "      <th>8</th>\n",
              "      <td>FDH17</td>\n",
              "      <td>16.200</td>\n",
              "      <td>Regular</td>\n",
              "      <td>0.016687</td>\n",
              "      <td>Frozen Foods</td>\n",
              "      <td>96.9726</td>\n",
              "      <td>OUT045</td>\n",
              "      <td>2002</td>\n",
              "      <td>NaN</td>\n",
              "      <td>Tier 2</td>\n",
              "      <td>Supermarket Type1</td>\n",
              "      <td>1076.5986</td>\n",
              "    </tr>\n",
              "    <tr>\n",
              "      <th>9</th>\n",
              "      <td>FDU28</td>\n",
              "      <td>19.200</td>\n",
              "      <td>Regular</td>\n",
              "      <td>0.094450</td>\n",
              "      <td>Frozen Foods</td>\n",
              "      <td>187.8214</td>\n",
              "      <td>OUT017</td>\n",
              "      <td>2007</td>\n",
              "      <td>NaN</td>\n",
              "      <td>Tier 2</td>\n",
              "      <td>Supermarket Type1</td>\n",
              "      <td>4710.5350</td>\n",
              "    </tr>\n",
              "  </tbody>\n",
              "</table>\n",
              "</div>"
            ],
            "text/plain": [
              "  Item_Identifier  Item_Weight Item_Fat_Content  Item_Visibility  \\\n",
              "0           FDA15        9.300          Low Fat         0.016047   \n",
              "1           DRC01        5.920          Regular         0.019278   \n",
              "2           FDN15       17.500          Low Fat         0.016760   \n",
              "3           FDX07       19.200          Regular         0.000000   \n",
              "4           NCD19        8.930          Low Fat         0.000000   \n",
              "5           FDP36       10.395          Regular         0.000000   \n",
              "6           FDO10       13.650          Regular         0.012741   \n",
              "7           FDP10          NaN          Low Fat         0.127470   \n",
              "8           FDH17       16.200          Regular         0.016687   \n",
              "9           FDU28       19.200          Regular         0.094450   \n",
              "\n",
              "               Item_Type  Item_MRP Outlet_Identifier  \\\n",
              "0                  Dairy  249.8092            OUT049   \n",
              "1            Soft Drinks   48.2692            OUT018   \n",
              "2                   Meat  141.6180            OUT049   \n",
              "3  Fruits and Vegetables  182.0950            OUT010   \n",
              "4              Household   53.8614            OUT013   \n",
              "5           Baking Goods   51.4008            OUT018   \n",
              "6            Snack Foods   57.6588            OUT013   \n",
              "7            Snack Foods  107.7622            OUT027   \n",
              "8           Frozen Foods   96.9726            OUT045   \n",
              "9           Frozen Foods  187.8214            OUT017   \n",
              "\n",
              "   Outlet_Establishment_Year Outlet_Size Outlet_Location_Type  \\\n",
              "0                       1999      Medium               Tier 1   \n",
              "1                       2009      Medium               Tier 3   \n",
              "2                       1999      Medium               Tier 1   \n",
              "3                       1998         NaN               Tier 3   \n",
              "4                       1987        High               Tier 3   \n",
              "5                       2009      Medium               Tier 3   \n",
              "6                       1987        High               Tier 3   \n",
              "7                       1985      Medium               Tier 3   \n",
              "8                       2002         NaN               Tier 2   \n",
              "9                       2007         NaN               Tier 2   \n",
              "\n",
              "         Outlet_Type  Item_Outlet_Sales  \n",
              "0  Supermarket Type1          3735.1380  \n",
              "1  Supermarket Type2           443.4228  \n",
              "2  Supermarket Type1          2097.2700  \n",
              "3      Grocery Store           732.3800  \n",
              "4  Supermarket Type1           994.7052  \n",
              "5  Supermarket Type2           556.6088  \n",
              "6  Supermarket Type1           343.5528  \n",
              "7  Supermarket Type3          4022.7636  \n",
              "8  Supermarket Type1          1076.5986  \n",
              "9  Supermarket Type1          4710.5350  "
            ]
          },
          "execution_count": 16,
          "metadata": {},
          "output_type": "execute_result"
        }
      ]
    },
    {
      "cell_type": "code",
      "metadata": {
        "id": "o8d9ijWaCm_C",
        "outputId": "f57b3a72-5721-44ae-bfd4-60015f1b4f42"
      },
      "source": [
        "train.shape"
      ],
      "execution_count": null,
      "outputs": [
        {
          "data": {
            "text/plain": [
              "(8523, 12)"
            ]
          },
          "execution_count": 17,
          "metadata": {},
          "output_type": "execute_result"
        }
      ]
    },
    {
      "cell_type": "code",
      "metadata": {
        "id": "1JKSMtzNCm_D",
        "outputId": "a7be3389-cc1f-4083-d61f-0459b24ab9e2"
      },
      "source": [
        "train.isnull().sum()"
      ],
      "execution_count": null,
      "outputs": [
        {
          "data": {
            "text/plain": [
              "Item_Identifier                 0\n",
              "Item_Weight                  1463\n",
              "Item_Fat_Content                0\n",
              "Item_Visibility                 0\n",
              "Item_Type                       0\n",
              "Item_MRP                        0\n",
              "Outlet_Identifier               0\n",
              "Outlet_Establishment_Year       0\n",
              "Outlet_Size                  2410\n",
              "Outlet_Location_Type            0\n",
              "Outlet_Type                     0\n",
              "Item_Outlet_Sales               0\n",
              "dtype: int64"
            ]
          },
          "execution_count": 18,
          "metadata": {},
          "output_type": "execute_result"
        }
      ]
    },
    {
      "cell_type": "code",
      "metadata": {
        "id": "FfCCGKk-Cm_D",
        "outputId": "e2fdfd9c-68ea-47da-9da3-a8cdecf18208"
      },
      "source": [
        "train.isnull().sum() / train.shape[0]"
      ],
      "execution_count": null,
      "outputs": [
        {
          "data": {
            "text/plain": [
              "Item_Identifier              0.000000\n",
              "Item_Weight                  0.171653\n",
              "Item_Fat_Content             0.000000\n",
              "Item_Visibility              0.000000\n",
              "Item_Type                    0.000000\n",
              "Item_MRP                     0.000000\n",
              "Outlet_Identifier            0.000000\n",
              "Outlet_Establishment_Year    0.000000\n",
              "Outlet_Size                  0.282764\n",
              "Outlet_Location_Type         0.000000\n",
              "Outlet_Type                  0.000000\n",
              "Item_Outlet_Sales            0.000000\n",
              "dtype: float64"
            ]
          },
          "execution_count": 19,
          "metadata": {},
          "output_type": "execute_result"
        }
      ]
    },
    {
      "cell_type": "code",
      "metadata": {
        "id": "dSRslG8zCm_E",
        "outputId": "86d264fb-e08a-4a66-aaa8-811c07364980"
      },
      "source": [
        "train.Item_Weight.mean()"
      ],
      "execution_count": null,
      "outputs": [
        {
          "data": {
            "text/plain": [
              "12.857645184136183"
            ]
          },
          "execution_count": 20,
          "metadata": {},
          "output_type": "execute_result"
        }
      ]
    },
    {
      "cell_type": "code",
      "metadata": {
        "id": "IOnB5FewCm_E",
        "outputId": "7adfcac3-9c6b-46f9-f30f-36aad7c46f74"
      },
      "source": [
        "train.hist('Item_Weight')"
      ],
      "execution_count": null,
      "outputs": [
        {
          "data": {
            "text/plain": [
              "array([[<AxesSubplot:title={'center':'Item_Weight'}>]], dtype=object)"
            ]
          },
          "execution_count": 21,
          "metadata": {},
          "output_type": "execute_result"
        },
        {
          "data": {
            "image/png": "[encoded data removed]",
            "text/plain": [
              "<Figure size 432x288 with 1 Axes>"
            ]
          },
          "metadata": {
            "needs_background": "light"
          },
          "output_type": "display_data"
        }
      ]
    },
    {
      "cell_type": "code",
      "metadata": {
        "id": "qPQERaZdCm_E",
        "outputId": "050e8bf7-136a-41aa-ac57-5f42f1f63949"
      },
      "source": [
        "train['Item_Weight'].plot(kind='kde')"
      ],
      "execution_count": null,
      "outputs": [
        {
          "data": {
            "text/plain": [
              "<AxesSubplot:ylabel='Density'>"
            ]
          },
          "execution_count": 22,
          "metadata": {},
          "output_type": "execute_result"
        },
        {
          "data": {
            "image/png": "[encoded data removed]",
            "text/plain": [
              "<Figure size 432x288 with 1 Axes>"
            ]
          },
          "metadata": {
            "needs_background": "light"
          },
          "output_type": "display_data"
        }
      ]
    },
    {
      "cell_type": "code",
      "metadata": {
        "id": "_jXArxZ0Cm_F"
      },
      "source": [
        "train.Item_Weight = train.Item_Weight.fillna(train.Item_Weight.mean())"
      ],
      "execution_count": null,
      "outputs": []
    },
    {
      "cell_type": "code",
      "metadata": {
        "id": "aMXvfBsCCm_F",
        "outputId": "173742f1-9999-4fef-cf53-06b9c53dacc7"
      },
      "source": [
        "train.isnull().sum()/train.shape[0]"
      ],
      "execution_count": null,
      "outputs": [
        {
          "data": {
            "text/plain": [
              "Item_Identifier              0.000000\n",
              "Item_Weight                  0.000000\n",
              "Item_Fat_Content             0.000000\n",
              "Item_Visibility              0.000000\n",
              "Item_Type                    0.000000\n",
              "Item_MRP                     0.000000\n",
              "Outlet_Identifier            0.000000\n",
              "Outlet_Establishment_Year    0.000000\n",
              "Outlet_Size                  0.282764\n",
              "Outlet_Location_Type         0.000000\n",
              "Outlet_Type                  0.000000\n",
              "Item_Outlet_Sales            0.000000\n",
              "dtype: float64"
            ]
          },
          "execution_count": 24,
          "metadata": {},
          "output_type": "execute_result"
        }
      ]
    },
    {
      "cell_type": "code",
      "metadata": {
        "id": "jXaMk18aCm_F"
      },
      "source": [
        "def fill_missing(cols):\n",
        "    item_type = cols[0]\n",
        "    item_weight = cols[1]\n",
        "    if pd.isnull(item_weight):\n",
        "        return train[train.Item_Type == item_type]['Item_Weight'].mean()\n",
        "    else:\n",
        "        return item_weight"
      ],
      "execution_count": null,
      "outputs": []
    },
    {
      "cell_type": "code",
      "metadata": {
        "id": "lfGgYF4xCm_F",
        "outputId": "a62a9c1a-314e-421c-e9df-688882ca2fd4"
      },
      "source": [
        "train[['Item_Type', 'Item_Weight']].apply(fill_missing, axis=1)"
      ],
      "execution_count": null,
      "outputs": [
        {
          "data": {
            "text/plain": [
              "0        9.300\n",
              "1        5.920\n",
              "2       17.500\n",
              "3       19.200\n",
              "4        8.930\n",
              "         ...  \n",
              "8518     6.865\n",
              "8519     8.380\n",
              "8520    10.600\n",
              "8521     7.210\n",
              "8522    14.800\n",
              "Length: 8523, dtype: float64"
            ]
          },
          "execution_count": 26,
          "metadata": {},
          "output_type": "execute_result"
        }
      ]
    },
    {
      "cell_type": "code",
      "metadata": {
        "id": "vMgOnT3bCm_F"
      },
      "source": [
        "train.Item_Weight = train[['Item_Type', 'Item_Weight']].apply(fill_missing, axis=1)"
      ],
      "execution_count": null,
      "outputs": []
    },
    {
      "cell_type": "code",
      "metadata": {
        "id": "irAvwJdhCm_G",
        "outputId": "a9df5251-a425-440a-a4b0-6844f2e620e1"
      },
      "source": [
        "train.Item_Type.nunique()"
      ],
      "execution_count": null,
      "outputs": [
        {
          "data": {
            "text/plain": [
              "16"
            ]
          },
          "execution_count": 28,
          "metadata": {},
          "output_type": "execute_result"
        }
      ]
    },
    {
      "cell_type": "code",
      "metadata": {
        "id": "YB7m3eReCm_G",
        "outputId": "3fa17e08-13fe-4216-e0dd-96b0999d71a7"
      },
      "source": [
        "train.Outlet_Size"
      ],
      "execution_count": null,
      "outputs": [
        {
          "data": {
            "text/plain": [
              "0       Medium\n",
              "1       Medium\n",
              "2       Medium\n",
              "3          NaN\n",
              "4         High\n",
              "         ...  \n",
              "8518      High\n",
              "8519       NaN\n",
              "8520     Small\n",
              "8521    Medium\n",
              "8522     Small\n",
              "Name: Outlet_Size, Length: 8523, dtype: object"
            ]
          },
          "execution_count": 29,
          "metadata": {},
          "output_type": "execute_result"
        }
      ]
    },
    {
      "cell_type": "code",
      "metadata": {
        "id": "Axd7s418Cm_G",
        "outputId": "6b92c8a9-8a55-4101-ba95-4a8b89f61bdf"
      },
      "source": [
        "train.Outlet_Size.mode()[0]"
      ],
      "execution_count": null,
      "outputs": [
        {
          "data": {
            "text/plain": [
              "'Medium'"
            ]
          },
          "execution_count": 30,
          "metadata": {},
          "output_type": "execute_result"
        }
      ]
    },
    {
      "cell_type": "code",
      "metadata": {
        "id": "U1Hx0AQ_Cm_G"
      },
      "source": [
        "train.Outlet_Size = train.Outlet_Size.fillna(train.Outlet_Size.mode()[0])"
      ],
      "execution_count": null,
      "outputs": []
    },
    {
      "cell_type": "code",
      "metadata": {
        "id": "PIp-b5aqCm_G",
        "outputId": "d9c0d978-2df0-49eb-8502-0edda6e7b98d"
      },
      "source": [
        "train.isnull().sum()"
      ],
      "execution_count": null,
      "outputs": [
        {
          "data": {
            "text/plain": [
              "Item_Identifier              0\n",
              "Item_Weight                  0\n",
              "Item_Fat_Content             0\n",
              "Item_Visibility              0\n",
              "Item_Type                    0\n",
              "Item_MRP                     0\n",
              "Outlet_Identifier            0\n",
              "Outlet_Establishment_Year    0\n",
              "Outlet_Size                  0\n",
              "Outlet_Location_Type         0\n",
              "Outlet_Type                  0\n",
              "Item_Outlet_Sales            0\n",
              "dtype: int64"
            ]
          },
          "execution_count": 32,
          "metadata": {},
          "output_type": "execute_result"
        }
      ]
    },
    {
      "cell_type": "code",
      "metadata": {
        "id": "wNz7iEPGCm_G",
        "outputId": "1c5b063a-c048-4f09-db15-8172208858bb"
      },
      "source": [
        "train.Item_Fat_Content.unique()"
      ],
      "execution_count": null,
      "outputs": [
        {
          "data": {
            "text/plain": [
              "array(['Low Fat', 'Regular', 'low fat', 'LF', 'reg'], dtype=object)"
            ]
          },
          "execution_count": 33,
          "metadata": {},
          "output_type": "execute_result"
        }
      ]
    },
    {
      "cell_type": "code",
      "metadata": {
        "id": "BbCSrEEECm_H"
      },
      "source": [
        "train.Item_Fat_Content = train.Item_Fat_Content.replace(['low fat', 'LF'], 'Low Fat')"
      ],
      "execution_count": null,
      "outputs": []
    },
    {
      "cell_type": "code",
      "metadata": {
        "id": "fCaYtgBUCm_H"
      },
      "source": [
        "train.Item_Fat_Content = train.Item_Fat_Content.replace(['reg'], 'Regular')"
      ],
      "execution_count": null,
      "outputs": []
    },
    {
      "cell_type": "code",
      "metadata": {
        "id": "6MLBuZp9Cm_H",
        "outputId": "6bd68698-ad64-405e-b748-0c3bb7e41aea"
      },
      "source": [
        "train.Item_Fat_Content.unique()"
      ],
      "execution_count": null,
      "outputs": [
        {
          "data": {
            "text/plain": [
              "array(['Low Fat', 'Regular'], dtype=object)"
            ]
          },
          "execution_count": 36,
          "metadata": {},
          "output_type": "execute_result"
        }
      ]
    },
    {
      "cell_type": "code",
      "metadata": {
        "id": "EexmdUBzCm_H"
      },
      "source": [
        "train['Age'] = 2021 - train.Outlet_Establishment_Year"
      ],
      "execution_count": null,
      "outputs": []
    },
    {
      "cell_type": "code",
      "metadata": {
        "id": "gl1q1dGxCm_H",
        "outputId": "a5012b83-2751-4b89-f7cd-469aa07840ba"
      },
      "source": [
        "train.head()"
      ],
      "execution_count": null,
      "outputs": [
        {
          "data": {
            "text/html": [
              "<div>\n",
              "<style scoped>\n",
              "    .dataframe tbody tr th:only-of-type {\n",
              "        vertical-align: middle;\n",
              "    }\n",
              "\n",
              "    .dataframe tbody tr th {\n",
              "        vertical-align: top;\n",
              "    }\n",
              "\n",
              "    .dataframe thead th {\n",
              "        text-align: right;\n",
              "    }\n",
              "</style>\n",
              "<table border=\"1\" class=\"dataframe\">\n",
              "  <thead>\n",
              "    <tr style=\"text-align: right;\">\n",
              "      <th></th>\n",
              "      <th>Item_Identifier</th>\n",
              "      <th>Item_Weight</th>\n",
              "      <th>Item_Fat_Content</th>\n",
              "      <th>Item_Visibility</th>\n",
              "      <th>Item_Type</th>\n",
              "      <th>Item_MRP</th>\n",
              "      <th>Outlet_Identifier</th>\n",
              "      <th>Outlet_Establishment_Year</th>\n",
              "      <th>Outlet_Size</th>\n",
              "      <th>Outlet_Location_Type</th>\n",
              "      <th>Outlet_Type</th>\n",
              "      <th>Item_Outlet_Sales</th>\n",
              "      <th>Age</th>\n",
              "    </tr>\n",
              "  </thead>\n",
              "  <tbody>\n",
              "    <tr>\n",
              "      <th>0</th>\n",
              "      <td>FDA15</td>\n",
              "      <td>9.30</td>\n",
              "      <td>Low Fat</td>\n",
              "      <td>0.016047</td>\n",
              "      <td>Dairy</td>\n",
              "      <td>249.8092</td>\n",
              "      <td>OUT049</td>\n",
              "      <td>1999</td>\n",
              "      <td>Medium</td>\n",
              "      <td>Tier 1</td>\n",
              "      <td>Supermarket Type1</td>\n",
              "      <td>3735.1380</td>\n",
              "      <td>22</td>\n",
              "    </tr>\n",
              "    <tr>\n",
              "      <th>1</th>\n",
              "      <td>DRC01</td>\n",
              "      <td>5.92</td>\n",
              "      <td>Regular</td>\n",
              "      <td>0.019278</td>\n",
              "      <td>Soft Drinks</td>\n",
              "      <td>48.2692</td>\n",
              "      <td>OUT018</td>\n",
              "      <td>2009</td>\n",
              "      <td>Medium</td>\n",
              "      <td>Tier 3</td>\n",
              "      <td>Supermarket Type2</td>\n",
              "      <td>443.4228</td>\n",
              "      <td>12</td>\n",
              "    </tr>\n",
              "    <tr>\n",
              "      <th>2</th>\n",
              "      <td>FDN15</td>\n",
              "      <td>17.50</td>\n",
              "      <td>Low Fat</td>\n",
              "      <td>0.016760</td>\n",
              "      <td>Meat</td>\n",
              "      <td>141.6180</td>\n",
              "      <td>OUT049</td>\n",
              "      <td>1999</td>\n",
              "      <td>Medium</td>\n",
              "      <td>Tier 1</td>\n",
              "      <td>Supermarket Type1</td>\n",
              "      <td>2097.2700</td>\n",
              "      <td>22</td>\n",
              "    </tr>\n",
              "    <tr>\n",
              "      <th>3</th>\n",
              "      <td>FDX07</td>\n",
              "      <td>19.20</td>\n",
              "      <td>Regular</td>\n",
              "      <td>0.000000</td>\n",
              "      <td>Fruits and Vegetables</td>\n",
              "      <td>182.0950</td>\n",
              "      <td>OUT010</td>\n",
              "      <td>1998</td>\n",
              "      <td>Medium</td>\n",
              "      <td>Tier 3</td>\n",
              "      <td>Grocery Store</td>\n",
              "      <td>732.3800</td>\n",
              "      <td>23</td>\n",
              "    </tr>\n",
              "    <tr>\n",
              "      <th>4</th>\n",
              "      <td>NCD19</td>\n",
              "      <td>8.93</td>\n",
              "      <td>Low Fat</td>\n",
              "      <td>0.000000</td>\n",
              "      <td>Household</td>\n",
              "      <td>53.8614</td>\n",
              "      <td>OUT013</td>\n",
              "      <td>1987</td>\n",
              "      <td>High</td>\n",
              "      <td>Tier 3</td>\n",
              "      <td>Supermarket Type1</td>\n",
              "      <td>994.7052</td>\n",
              "      <td>34</td>\n",
              "    </tr>\n",
              "  </tbody>\n",
              "</table>\n",
              "</div>"
            ],
            "text/plain": [
              "  Item_Identifier  Item_Weight Item_Fat_Content  Item_Visibility  \\\n",
              "0           FDA15         9.30          Low Fat         0.016047   \n",
              "1           DRC01         5.92          Regular         0.019278   \n",
              "2           FDN15        17.50          Low Fat         0.016760   \n",
              "3           FDX07        19.20          Regular         0.000000   \n",
              "4           NCD19         8.93          Low Fat         0.000000   \n",
              "\n",
              "               Item_Type  Item_MRP Outlet_Identifier  \\\n",
              "0                  Dairy  249.8092            OUT049   \n",
              "1            Soft Drinks   48.2692            OUT018   \n",
              "2                   Meat  141.6180            OUT049   \n",
              "3  Fruits and Vegetables  182.0950            OUT010   \n",
              "4              Household   53.8614            OUT013   \n",
              "\n",
              "   Outlet_Establishment_Year Outlet_Size Outlet_Location_Type  \\\n",
              "0                       1999      Medium               Tier 1   \n",
              "1                       2009      Medium               Tier 3   \n",
              "2                       1999      Medium               Tier 1   \n",
              "3                       1998      Medium               Tier 3   \n",
              "4                       1987        High               Tier 3   \n",
              "\n",
              "         Outlet_Type  Item_Outlet_Sales  Age  \n",
              "0  Supermarket Type1          3735.1380   22  \n",
              "1  Supermarket Type2           443.4228   12  \n",
              "2  Supermarket Type1          2097.2700   22  \n",
              "3      Grocery Store           732.3800   23  \n",
              "4  Supermarket Type1           994.7052   34  "
            ]
          },
          "execution_count": 38,
          "metadata": {},
          "output_type": "execute_result"
        }
      ]
    },
    {
      "cell_type": "code",
      "metadata": {
        "id": "9p4MWKX9Cm_H",
        "outputId": "f357ae4a-9260-4c4d-fbca-07a4c4c9a6fc"
      },
      "source": [
        "train['Item_Visibility'].hist()"
      ],
      "execution_count": null,
      "outputs": [
        {
          "data": {
            "text/plain": [
              "<AxesSubplot:>"
            ]
          },
          "execution_count": 39,
          "metadata": {},
          "output_type": "execute_result"
        },
        {
          "data": {
            "image/png": "[encoded data removed]",
            "text/plain": [
              "<Figure size 432x288 with 1 Axes>"
            ]
          },
          "metadata": {
            "needs_background": "light"
          },
          "output_type": "display_data"
        }
      ]
    },
    {
      "cell_type": "code",
      "metadata": {
        "id": "TqalA8Z0Cm_H",
        "outputId": "5e82348b-cc94-4f10-9334-423e29b9988f"
      },
      "source": [
        "train['Item_Visibility'].plot(kind='box')"
      ],
      "execution_count": null,
      "outputs": [
        {
          "data": {
            "text/plain": [
              "<AxesSubplot:>"
            ]
          },
          "execution_count": 40,
          "metadata": {},
          "output_type": "execute_result"
        },
        {
          "data": {
            "image/png": "[encoded data removed]",
            "text/plain": [
              "<Figure size 432x288 with 1 Axes>"
            ]
          },
          "metadata": {
            "needs_background": "light"
          },
          "output_type": "display_data"
        }
      ]
    },
    {
      "cell_type": "code",
      "metadata": {
        "id": "fQUySphECm_I"
      },
      "source": [
        "Q1 = train['Item_Visibility'].quantile(0.25)\n",
        "Q3 = train['Item_Visibility'].quantile(0.75)"
      ],
      "execution_count": null,
      "outputs": []
    },
    {
      "cell_type": "code",
      "metadata": {
        "id": "ohCI4Tt3Cm_I"
      },
      "source": [
        "IQR = Q3 - Q1"
      ],
      "execution_count": null,
      "outputs": []
    },
    {
      "cell_type": "code",
      "metadata": {
        "id": "abvsSefeCm_I"
      },
      "source": [
        "filt_train = train[(train.Item_Visibility >= (Q1 - 1.5*IQR)) & (train.Item_Visibility <= (Q3 + 1.5*IQR))]"
      ],
      "execution_count": null,
      "outputs": []
    },
    {
      "cell_type": "raw",
      "metadata": {
        "id": "QGKFKxdOCm_I"
      },
      "source": [
        "filt_train = train.query('(@Q1 - 1.5 * @IQR) <= Item_Visibility <= (@Q3 + 1.5 * @IQR)')"
      ]
    },
    {
      "cell_type": "code",
      "metadata": {
        "id": "WjoibIJjCm_I",
        "outputId": "0cc4f18b-4e92-4f73-9f33-a3c22d5b5166"
      },
      "source": [
        "((train.shape[0] - filt_train.shape[0])/train.shape[0])*100"
      ],
      "execution_count": null,
      "outputs": [
        {
          "data": {
            "text/plain": [
              "1.689545934530095"
            ]
          },
          "execution_count": 44,
          "metadata": {},
          "output_type": "execute_result"
        }
      ]
    },
    {
      "cell_type": "code",
      "metadata": {
        "id": "fSwzKYcwCm_I",
        "outputId": "2466a2b5-b68b-48c5-827f-8f943b32c23d"
      },
      "source": [
        "train = filt_train\n",
        "train.shape"
      ],
      "execution_count": null,
      "outputs": [
        {
          "data": {
            "text/plain": [
              "(8379, 13)"
            ]
          },
          "execution_count": 45,
          "metadata": {},
          "output_type": "execute_result"
        }
      ]
    },
    {
      "cell_type": "code",
      "metadata": {
        "id": "07tO4ITcCm_I",
        "outputId": "b0844ea0-ceae-406a-9425-907f940d3847"
      },
      "source": [
        "train['Item_Visibility'].min(), train['Item_Visibility'].max()"
      ],
      "execution_count": null,
      "outputs": [
        {
          "data": {
            "text/plain": [
              "(0.0, 0.195721125)"
            ]
          },
          "execution_count": 46,
          "metadata": {},
          "output_type": "execute_result"
        }
      ]
    },
    {
      "cell_type": "code",
      "metadata": {
        "id": "Xdrazj1HCm_I"
      },
      "source": [
        "#creating a category\n",
        "train['Item_Visibility_bins'] = pd.cut(train['Item_Visibility'], [0.000, 0.065, 0.13, 0.2], # Creating bins for visibility\n",
        "                                       labels=['Low Viz', 'Viz', 'High Viz'], include_lowest=True)   # need to specify columns, bins and labels"
      ],
      "execution_count": null,
      "outputs": []
    },
    {
      "cell_type": "code",
      "metadata": {
        "id": "NQzGp_u4Cm_J",
        "outputId": "9fbb9f16-5b9b-4d06-8230-0440a56ba226"
      },
      "source": [
        "train['Item_Visibility_bins']"
      ],
      "execution_count": null,
      "outputs": [
        {
          "data": {
            "text/plain": [
              "0        Low Viz\n",
              "1        Low Viz\n",
              "2        Low Viz\n",
              "3        Low Viz\n",
              "4        Low Viz\n",
              "          ...   \n",
              "8518     Low Viz\n",
              "8519     Low Viz\n",
              "8520     Low Viz\n",
              "8521    High Viz\n",
              "8522     Low Viz\n",
              "Name: Item_Visibility_bins, Length: 8379, dtype: category\n",
              "Categories (3, object): ['Low Viz' < 'Viz' < 'High Viz']"
            ]
          },
          "execution_count": 57,
          "metadata": {},
          "output_type": "execute_result"
        }
      ]
    },
    {
      "cell_type": "code",
      "metadata": {
        "id": "mYT19-_ICm_J",
        "outputId": "5eb63d44-26eb-4b14-f7ff-dac5884abe7a"
      },
      "source": [
        "train['Item_Visibility_bins'].value_counts()"
      ],
      "execution_count": null,
      "outputs": [
        {
          "data": {
            "text/plain": [
              "Low Viz     4929\n",
              "Viz         2557\n",
              "High Viz     893\n",
              "Name: Item_Visibility_bins, dtype: int64"
            ]
          },
          "execution_count": 53,
          "metadata": {},
          "output_type": "execute_result"
        }
      ]
    },
    {
      "cell_type": "code",
      "metadata": {
        "id": "EVpSrNpTCm_J",
        "outputId": "592295d8-f5fe-480c-cfee-70b2dd151f8d"
      },
      "source": [
        "train.info()"
      ],
      "execution_count": null,
      "outputs": [
        {
          "name": "stdout",
          "output_type": "stream",
          "text": [
            "<class 'pandas.core.frame.DataFrame'>\n",
            "Int64Index: 8379 entries, 0 to 8522\n",
            "Data columns (total 14 columns):\n",
            " #   Column                     Non-Null Count  Dtype   \n",
            "---  ------                     --------------  -----   \n",
            " 0   Item_Identifier            8379 non-null   object  \n",
            " 1   Item_Weight                8379 non-null   float64 \n",
            " 2   Item_Fat_Content           8379 non-null   object  \n",
            " 3   Item_Visibility            8379 non-null   float64 \n",
            " 4   Item_Type                  8379 non-null   object  \n",
            " 5   Item_MRP                   8379 non-null   float64 \n",
            " 6   Outlet_Identifier          8379 non-null   object  \n",
            " 7   Outlet_Establishment_Year  8379 non-null   int64   \n",
            " 8   Outlet_Size                8379 non-null   object  \n",
            " 9   Outlet_Location_Type       8379 non-null   object  \n",
            " 10  Outlet_Type                8379 non-null   object  \n",
            " 11  Item_Outlet_Sales          8379 non-null   float64 \n",
            " 12  Age                        8379 non-null   int64   \n",
            " 13  Item_Visibility_bins       8379 non-null   category\n",
            "dtypes: category(1), float64(4), int64(2), object(7)\n",
            "memory usage: 924.7+ KB\n"
          ]
        }
      ]
    },
    {
      "cell_type": "code",
      "metadata": {
        "id": "zrmUpyPiCm_J"
      },
      "source": [
        "train = pd.get_dummies(train, columns=['Item_Fat_Content', 'Outlet_Size', 'Outlet_Location_Type', \\\n",
        "                               'Outlet_Type', 'Item_Visibility_bins'])"
      ],
      "execution_count": null,
      "outputs": []
    },
    {
      "cell_type": "code",
      "metadata": {
        "id": "3xbgYpMgCm_J",
        "outputId": "2f9d5242-5fee-4284-8c24-9e1e0551e9aa"
      },
      "source": [
        "train.info()"
      ],
      "execution_count": null,
      "outputs": [
        {
          "name": "stdout",
          "output_type": "stream",
          "text": [
            "<class 'pandas.core.frame.DataFrame'>\n",
            "Int64Index: 8379 entries, 0 to 8522\n",
            "Data columns (total 24 columns):\n",
            " #   Column                         Non-Null Count  Dtype  \n",
            "---  ------                         --------------  -----  \n",
            " 0   Item_Identifier                8379 non-null   object \n",
            " 1   Item_Weight                    8379 non-null   float64\n",
            " 2   Item_Visibility                8379 non-null   float64\n",
            " 3   Item_Type                      8379 non-null   object \n",
            " 4   Item_MRP                       8379 non-null   float64\n",
            " 5   Outlet_Identifier              8379 non-null   object \n",
            " 6   Outlet_Establishment_Year      8379 non-null   int64  \n",
            " 7   Item_Outlet_Sales              8379 non-null   float64\n",
            " 8   Age                            8379 non-null   int64  \n",
            " 9   Item_Fat_Content_Low Fat       8379 non-null   uint8  \n",
            " 10  Item_Fat_Content_Regular       8379 non-null   uint8  \n",
            " 11  Outlet_Size_High               8379 non-null   uint8  \n",
            " 12  Outlet_Size_Medium             8379 non-null   uint8  \n",
            " 13  Outlet_Size_Small              8379 non-null   uint8  \n",
            " 14  Outlet_Location_Type_Tier 1    8379 non-null   uint8  \n",
            " 15  Outlet_Location_Type_Tier 2    8379 non-null   uint8  \n",
            " 16  Outlet_Location_Type_Tier 3    8379 non-null   uint8  \n",
            " 17  Outlet_Type_Grocery Store      8379 non-null   uint8  \n",
            " 18  Outlet_Type_Supermarket Type1  8379 non-null   uint8  \n",
            " 19  Outlet_Type_Supermarket Type2  8379 non-null   uint8  \n",
            " 20  Outlet_Type_Supermarket Type3  8379 non-null   uint8  \n",
            " 21  Item_Visibility_bins_Low Viz   8379 non-null   uint8  \n",
            " 22  Item_Visibility_bins_Viz       8379 non-null   uint8  \n",
            " 23  Item_Visibility_bins_High Viz  8379 non-null   uint8  \n",
            "dtypes: float64(4), int64(2), object(3), uint8(15)\n",
            "memory usage: 777.3+ KB\n"
          ]
        }
      ]
    },
    {
      "cell_type": "code",
      "metadata": {
        "id": "b7B0FzwZCm_J"
      },
      "source": [
        "cols_to_drop = ['Item_Identifier', 'Item_Visibility', 'Item_Type', 'Outlet_Identifier', \n",
        "                'Outlet_Establishment_Year']"
      ],
      "execution_count": null,
      "outputs": []
    },
    {
      "cell_type": "code",
      "metadata": {
        "id": "SQujnLh4Cm_J"
      },
      "source": [
        "final_train = train.drop(cols_to_drop, axis=1)"
      ],
      "execution_count": null,
      "outputs": []
    },
    {
      "cell_type": "code",
      "metadata": {
        "id": "qOVftZ5OCm_J",
        "outputId": "b9d82c52-9294-4c9f-f810-c46500f620e5"
      },
      "source": [
        "final_train.info()"
      ],
      "execution_count": null,
      "outputs": [
        {
          "name": "stdout",
          "output_type": "stream",
          "text": [
            "<class 'pandas.core.frame.DataFrame'>\n",
            "Int64Index: 8379 entries, 0 to 8522\n",
            "Data columns (total 19 columns):\n",
            " #   Column                         Non-Null Count  Dtype  \n",
            "---  ------                         --------------  -----  \n",
            " 0   Item_Weight                    8379 non-null   float64\n",
            " 1   Item_MRP                       8379 non-null   float64\n",
            " 2   Item_Outlet_Sales              8379 non-null   float64\n",
            " 3   Age                            8379 non-null   int64  \n",
            " 4   Item_Fat_Content_Low Fat       8379 non-null   uint8  \n",
            " 5   Item_Fat_Content_Regular       8379 non-null   uint8  \n",
            " 6   Outlet_Size_High               8379 non-null   uint8  \n",
            " 7   Outlet_Size_Medium             8379 non-null   uint8  \n",
            " 8   Outlet_Size_Small              8379 non-null   uint8  \n",
            " 9   Outlet_Location_Type_Tier 1    8379 non-null   uint8  \n",
            " 10  Outlet_Location_Type_Tier 2    8379 non-null   uint8  \n",
            " 11  Outlet_Location_Type_Tier 3    8379 non-null   uint8  \n",
            " 12  Outlet_Type_Grocery Store      8379 non-null   uint8  \n",
            " 13  Outlet_Type_Supermarket Type1  8379 non-null   uint8  \n",
            " 14  Outlet_Type_Supermarket Type2  8379 non-null   uint8  \n",
            " 15  Outlet_Type_Supermarket Type3  8379 non-null   uint8  \n",
            " 16  Item_Visibility_bins_Low Viz   8379 non-null   uint8  \n",
            " 17  Item_Visibility_bins_Viz       8379 non-null   uint8  \n",
            " 18  Item_Visibility_bins_High Viz  8379 non-null   uint8  \n",
            "dtypes: float64(3), int64(1), uint8(15)\n",
            "memory usage: 450.0 KB\n"
          ]
        }
      ]
    },
    {
      "cell_type": "code",
      "metadata": {
        "id": "tocVFRDrCm_K",
        "outputId": "b6d58993-5f8f-4ea9-e320-8a8142f0c0cc"
      },
      "source": [
        "final_train"
      ],
      "execution_count": null,
      "outputs": [
        {
          "data": {
            "text/html": [
              "<div>\n",
              "<style scoped>\n",
              "    .dataframe tbody tr th:only-of-type {\n",
              "        vertical-align: middle;\n",
              "    }\n",
              "\n",
              "    .dataframe tbody tr th {\n",
              "        vertical-align: top;\n",
              "    }\n",
              "\n",
              "    .dataframe thead th {\n",
              "        text-align: right;\n",
              "    }\n",
              "</style>\n",
              "<table border=\"1\" class=\"dataframe\">\n",
              "  <thead>\n",
              "    <tr style=\"text-align: right;\">\n",
              "      <th></th>\n",
              "      <th>Item_Weight</th>\n",
              "      <th>Item_MRP</th>\n",
              "      <th>Item_Outlet_Sales</th>\n",
              "      <th>Age</th>\n",
              "      <th>Item_Fat_Content_Low Fat</th>\n",
              "      <th>Item_Fat_Content_Regular</th>\n",
              "      <th>Outlet_Size_High</th>\n",
              "      <th>Outlet_Size_Medium</th>\n",
              "      <th>Outlet_Size_Small</th>\n",
              "      <th>Outlet_Location_Type_Tier 1</th>\n",
              "      <th>Outlet_Location_Type_Tier 2</th>\n",
              "      <th>Outlet_Location_Type_Tier 3</th>\n",
              "      <th>Outlet_Type_Grocery Store</th>\n",
              "      <th>Outlet_Type_Supermarket Type1</th>\n",
              "      <th>Outlet_Type_Supermarket Type2</th>\n",
              "      <th>Outlet_Type_Supermarket Type3</th>\n",
              "      <th>Item_Visibility_bins_Low Viz</th>\n",
              "      <th>Item_Visibility_bins_Viz</th>\n",
              "      <th>Item_Visibility_bins_High Viz</th>\n",
              "    </tr>\n",
              "  </thead>\n",
              "  <tbody>\n",
              "    <tr>\n",
              "      <th>0</th>\n",
              "      <td>9.300</td>\n",
              "      <td>249.8092</td>\n",
              "      <td>3735.1380</td>\n",
              "      <td>22</td>\n",
              "      <td>1</td>\n",
              "      <td>0</td>\n",
              "      <td>0</td>\n",
              "      <td>1</td>\n",
              "      <td>0</td>\n",
              "      <td>1</td>\n",
              "      <td>0</td>\n",
              "      <td>0</td>\n",
              "      <td>0</td>\n",
              "      <td>1</td>\n",
              "      <td>0</td>\n",
              "      <td>0</td>\n",
              "      <td>1</td>\n",
              "      <td>0</td>\n",
              "      <td>0</td>\n",
              "    </tr>\n",
              "    <tr>\n",
              "      <th>1</th>\n",
              "      <td>5.920</td>\n",
              "      <td>48.2692</td>\n",
              "      <td>443.4228</td>\n",
              "      <td>12</td>\n",
              "      <td>0</td>\n",
              "      <td>1</td>\n",
              "      <td>0</td>\n",
              "      <td>1</td>\n",
              "      <td>0</td>\n",
              "      <td>0</td>\n",
              "      <td>0</td>\n",
              "      <td>1</td>\n",
              "      <td>0</td>\n",
              "      <td>0</td>\n",
              "      <td>1</td>\n",
              "      <td>0</td>\n",
              "      <td>1</td>\n",
              "      <td>0</td>\n",
              "      <td>0</td>\n",
              "    </tr>\n",
              "    <tr>\n",
              "      <th>2</th>\n",
              "      <td>17.500</td>\n",
              "      <td>141.6180</td>\n",
              "      <td>2097.2700</td>\n",
              "      <td>22</td>\n",
              "      <td>1</td>\n",
              "      <td>0</td>\n",
              "      <td>0</td>\n",
              "      <td>1</td>\n",
              "      <td>0</td>\n",
              "      <td>1</td>\n",
              "      <td>0</td>\n",
              "      <td>0</td>\n",
              "      <td>0</td>\n",
              "      <td>1</td>\n",
              "      <td>0</td>\n",
              "      <td>0</td>\n",
              "      <td>1</td>\n",
              "      <td>0</td>\n",
              "      <td>0</td>\n",
              "    </tr>\n",
              "    <tr>\n",
              "      <th>3</th>\n",
              "      <td>19.200</td>\n",
              "      <td>182.0950</td>\n",
              "      <td>732.3800</td>\n",
              "      <td>23</td>\n",
              "      <td>0</td>\n",
              "      <td>1</td>\n",
              "      <td>0</td>\n",
              "      <td>1</td>\n",
              "      <td>0</td>\n",
              "      <td>0</td>\n",
              "      <td>0</td>\n",
              "      <td>1</td>\n",
              "      <td>1</td>\n",
              "      <td>0</td>\n",
              "      <td>0</td>\n",
              "      <td>0</td>\n",
              "      <td>1</td>\n",
              "      <td>0</td>\n",
              "      <td>0</td>\n",
              "    </tr>\n",
              "    <tr>\n",
              "      <th>4</th>\n",
              "      <td>8.930</td>\n",
              "      <td>53.8614</td>\n",
              "      <td>994.7052</td>\n",
              "      <td>34</td>\n",
              "      <td>1</td>\n",
              "      <td>0</td>\n",
              "      <td>1</td>\n",
              "      <td>0</td>\n",
              "      <td>0</td>\n",
              "      <td>0</td>\n",
              "      <td>0</td>\n",
              "      <td>1</td>\n",
              "      <td>0</td>\n",
              "      <td>1</td>\n",
              "      <td>0</td>\n",
              "      <td>0</td>\n",
              "      <td>1</td>\n",
              "      <td>0</td>\n",
              "      <td>0</td>\n",
              "    </tr>\n",
              "    <tr>\n",
              "      <th>...</th>\n",
              "      <td>...</td>\n",
              "      <td>...</td>\n",
              "      <td>...</td>\n",
              "      <td>...</td>\n",
              "      <td>...</td>\n",
              "      <td>...</td>\n",
              "      <td>...</td>\n",
              "      <td>...</td>\n",
              "      <td>...</td>\n",
              "      <td>...</td>\n",
              "      <td>...</td>\n",
              "      <td>...</td>\n",
              "      <td>...</td>\n",
              "      <td>...</td>\n",
              "      <td>...</td>\n",
              "      <td>...</td>\n",
              "      <td>...</td>\n",
              "      <td>...</td>\n",
              "      <td>...</td>\n",
              "    </tr>\n",
              "    <tr>\n",
              "      <th>8518</th>\n",
              "      <td>6.865</td>\n",
              "      <td>214.5218</td>\n",
              "      <td>2778.3834</td>\n",
              "      <td>34</td>\n",
              "      <td>1</td>\n",
              "      <td>0</td>\n",
              "      <td>1</td>\n",
              "      <td>0</td>\n",
              "      <td>0</td>\n",
              "      <td>0</td>\n",
              "      <td>0</td>\n",
              "      <td>1</td>\n",
              "      <td>0</td>\n",
              "      <td>1</td>\n",
              "      <td>0</td>\n",
              "      <td>0</td>\n",
              "      <td>1</td>\n",
              "      <td>0</td>\n",
              "      <td>0</td>\n",
              "    </tr>\n",
              "    <tr>\n",
              "      <th>8519</th>\n",
              "      <td>8.380</td>\n",
              "      <td>108.1570</td>\n",
              "      <td>549.2850</td>\n",
              "      <td>19</td>\n",
              "      <td>0</td>\n",
              "      <td>1</td>\n",
              "      <td>0</td>\n",
              "      <td>1</td>\n",
              "      <td>0</td>\n",
              "      <td>0</td>\n",
              "      <td>1</td>\n",
              "      <td>0</td>\n",
              "      <td>0</td>\n",
              "      <td>1</td>\n",
              "      <td>0</td>\n",
              "      <td>0</td>\n",
              "      <td>1</td>\n",
              "      <td>0</td>\n",
              "      <td>0</td>\n",
              "    </tr>\n",
              "    <tr>\n",
              "      <th>8520</th>\n",
              "      <td>10.600</td>\n",
              "      <td>85.1224</td>\n",
              "      <td>1193.1136</td>\n",
              "      <td>17</td>\n",
              "      <td>1</td>\n",
              "      <td>0</td>\n",
              "      <td>0</td>\n",
              "      <td>0</td>\n",
              "      <td>1</td>\n",
              "      <td>0</td>\n",
              "      <td>1</td>\n",
              "      <td>0</td>\n",
              "      <td>0</td>\n",
              "      <td>1</td>\n",
              "      <td>0</td>\n",
              "      <td>0</td>\n",
              "      <td>1</td>\n",
              "      <td>0</td>\n",
              "      <td>0</td>\n",
              "    </tr>\n",
              "    <tr>\n",
              "      <th>8521</th>\n",
              "      <td>7.210</td>\n",
              "      <td>103.1332</td>\n",
              "      <td>1845.5976</td>\n",
              "      <td>12</td>\n",
              "      <td>0</td>\n",
              "      <td>1</td>\n",
              "      <td>0</td>\n",
              "      <td>1</td>\n",
              "      <td>0</td>\n",
              "      <td>0</td>\n",
              "      <td>0</td>\n",
              "      <td>1</td>\n",
              "      <td>0</td>\n",
              "      <td>0</td>\n",
              "      <td>1</td>\n",
              "      <td>0</td>\n",
              "      <td>0</td>\n",
              "      <td>0</td>\n",
              "      <td>1</td>\n",
              "    </tr>\n",
              "    <tr>\n",
              "      <th>8522</th>\n",
              "      <td>14.800</td>\n",
              "      <td>75.4670</td>\n",
              "      <td>765.6700</td>\n",
              "      <td>24</td>\n",
              "      <td>1</td>\n",
              "      <td>0</td>\n",
              "      <td>0</td>\n",
              "      <td>0</td>\n",
              "      <td>1</td>\n",
              "      <td>1</td>\n",
              "      <td>0</td>\n",
              "      <td>0</td>\n",
              "      <td>0</td>\n",
              "      <td>1</td>\n",
              "      <td>0</td>\n",
              "      <td>0</td>\n",
              "      <td>1</td>\n",
              "      <td>0</td>\n",
              "      <td>0</td>\n",
              "    </tr>\n",
              "  </tbody>\n",
              "</table>\n",
              "<p>8379 rows × 19 columns</p>\n",
              "</div>"
            ],
            "text/plain": [
              "      Item_Weight  Item_MRP  Item_Outlet_Sales  Age  Item_Fat_Content_Low Fat  \\\n",
              "0           9.300  249.8092          3735.1380   22                         1   \n",
              "1           5.920   48.2692           443.4228   12                         0   \n",
              "2          17.500  141.6180          2097.2700   22                         1   \n",
              "3          19.200  182.0950           732.3800   23                         0   \n",
              "4           8.930   53.8614           994.7052   34                         1   \n",
              "...           ...       ...                ...  ...                       ...   \n",
              "8518        6.865  214.5218          2778.3834   34                         1   \n",
              "8519        8.380  108.1570           549.2850   19                         0   \n",
              "8520       10.600   85.1224          1193.1136   17                         1   \n",
              "8521        7.210  103.1332          1845.5976   12                         0   \n",
              "8522       14.800   75.4670           765.6700   24                         1   \n",
              "\n",
              "      Item_Fat_Content_Regular  Outlet_Size_High  Outlet_Size_Medium  \\\n",
              "0                            0                 0                   1   \n",
              "1                            1                 0                   1   \n",
              "2                            0                 0                   1   \n",
              "3                            1                 0                   1   \n",
              "4                            0                 1                   0   \n",
              "...                        ...               ...                 ...   \n",
              "8518                         0                 1                   0   \n",
              "8519                         1                 0                   1   \n",
              "8520                         0                 0                   0   \n",
              "8521                         1                 0                   1   \n",
              "8522                         0                 0                   0   \n",
              "\n",
              "      Outlet_Size_Small  Outlet_Location_Type_Tier 1  \\\n",
              "0                     0                            1   \n",
              "1                     0                            0   \n",
              "2                     0                            1   \n",
              "3                     0                            0   \n",
              "4                     0                            0   \n",
              "...                 ...                          ...   \n",
              "8518                  0                            0   \n",
              "8519                  0                            0   \n",
              "8520                  1                            0   \n",
              "8521                  0                            0   \n",
              "8522                  1                            1   \n",
              "\n",
              "      Outlet_Location_Type_Tier 2  Outlet_Location_Type_Tier 3  \\\n",
              "0                               0                            0   \n",
              "1                               0                            1   \n",
              "2                               0                            0   \n",
              "3                               0                            1   \n",
              "4                               0                            1   \n",
              "...                           ...                          ...   \n",
              "8518                            0                            1   \n",
              "8519                            1                            0   \n",
              "8520                            1                            0   \n",
              "8521                            0                            1   \n",
              "8522                            0                            0   \n",
              "\n",
              "      Outlet_Type_Grocery Store  Outlet_Type_Supermarket Type1  \\\n",
              "0                             0                              1   \n",
              "1                             0                              0   \n",
              "2                             0                              1   \n",
              "3                             1                              0   \n",
              "4                             0                              1   \n",
              "...                         ...                            ...   \n",
              "8518                          0                              1   \n",
              "8519                          0                              1   \n",
              "8520                          0                              1   \n",
              "8521                          0                              0   \n",
              "8522                          0                              1   \n",
              "\n",
              "      Outlet_Type_Supermarket Type2  Outlet_Type_Supermarket Type3  \\\n",
              "0                                 0                              0   \n",
              "1                                 1                              0   \n",
              "2                                 0                              0   \n",
              "3                                 0                              0   \n",
              "4                                 0                              0   \n",
              "...                             ...                            ...   \n",
              "8518                              0                              0   \n",
              "8519                              0                              0   \n",
              "8520                              0                              0   \n",
              "8521                              1                              0   \n",
              "8522                              0                              0   \n",
              "\n",
              "      Item_Visibility_bins_Low Viz  Item_Visibility_bins_Viz  \\\n",
              "0                                1                         0   \n",
              "1                                1                         0   \n",
              "2                                1                         0   \n",
              "3                                1                         0   \n",
              "4                                1                         0   \n",
              "...                            ...                       ...   \n",
              "8518                             1                         0   \n",
              "8519                             1                         0   \n",
              "8520                             1                         0   \n",
              "8521                             0                         0   \n",
              "8522                             1                         0   \n",
              "\n",
              "      Item_Visibility_bins_High Viz  \n",
              "0                                 0  \n",
              "1                                 0  \n",
              "2                                 0  \n",
              "3                                 0  \n",
              "4                                 0  \n",
              "...                             ...  \n",
              "8518                              0  \n",
              "8519                              0  \n",
              "8520                              0  \n",
              "8521                              1  \n",
              "8522                              0  \n",
              "\n",
              "[8379 rows x 19 columns]"
            ]
          },
          "execution_count": 69,
          "metadata": {},
          "output_type": "execute_result"
        }
      ]
    },
    {
      "cell_type": "code",
      "metadata": {
        "id": "nCJVJQhiCm_K",
        "outputId": "a48fb164-993c-4945-b7ff-5e9612a4208d"
      },
      "source": [
        "import seaborn as sns\n",
        "\n",
        "correlation = final_train.corr()\n",
        "\n",
        "sns.heatmap(correlation, cmap='bwr')"
      ],
      "execution_count": null,
      "outputs": [
        {
          "data": {
            "text/plain": [
              "<AxesSubplot:>"
            ]
          },
          "execution_count": 70,
          "metadata": {},
          "output_type": "execute_result"
        },
        {
          "data": {
            "image/png": "[encoded data removed]",
            "text/plain": [
              "<Figure size 432x288 with 2 Axes>"
            ]
          },
          "metadata": {
            "needs_background": "light"
          },
          "output_type": "display_data"
        }
      ]
    },
    {
      "cell_type": "code",
      "metadata": {
        "id": "yBBXKB1dCm_K"
      },
      "source": [
        "X = final_train.drop('Item_Outlet_Sales', axis=1)\n",
        "y = final_train['Item_Outlet_Sales']"
      ],
      "execution_count": null,
      "outputs": []
    },
    {
      "cell_type": "code",
      "metadata": {
        "id": "x0vYbr24Cm_K",
        "outputId": "d8f11020-ceae-487e-cf4f-792d5fdb5d88"
      },
      "source": [
        "X.shape, y.shape"
      ],
      "execution_count": null,
      "outputs": [
        {
          "data": {
            "text/plain": [
              "((8379, 18), (8379,))"
            ]
          },
          "execution_count": 72,
          "metadata": {},
          "output_type": "execute_result"
        }
      ]
    },
    {
      "cell_type": "code",
      "metadata": {
        "id": "T5wPwekTCm_K"
      },
      "source": [
        "dc = dict()\n",
        "for i in list(final_train.columns):\n",
        "    dc[i] = i.replace(' ','_')"
      ],
      "execution_count": null,
      "outputs": []
    },
    {
      "cell_type": "code",
      "metadata": {
        "id": "PT9LIhG-Cm_K"
      },
      "source": [
        "train_new = final_train.rename(dc, axis=1)"
      ],
      "execution_count": null,
      "outputs": []
    },
    {
      "cell_type": "code",
      "metadata": {
        "id": "CW8KkFfGCm_K"
      },
      "source": [
        "formula = 'Item_Outlet_Sales ~ ' + ' + '.join(list(train_new.drop('Item_Outlet_Sales', axis=1).columns))"
      ],
      "execution_count": null,
      "outputs": []
    },
    {
      "cell_type": "code",
      "metadata": {
        "id": "8I0S3WaGCm_K"
      },
      "source": [
        "import statsmodels.formula.api as smf\n",
        "lm = smf.ols(formula=formula, data=train_new).fit()"
      ],
      "execution_count": null,
      "outputs": []
    },
    {
      "cell_type": "code",
      "metadata": {
        "scrolled": true,
        "id": "y5nulkBYCm_K",
        "outputId": "4849fb87-2690-4fdd-f091-a468e1622b33"
      },
      "source": [
        "lm.summary()"
      ],
      "execution_count": null,
      "outputs": [
        {
          "data": {
            "text/html": [
              "<table class=\"simpletable\">\n",
              "<caption>OLS Regression Results</caption>\n",
              "<tr>\n",
              "  <th>Dep. Variable:</th>    <td>Item_Outlet_Sales</td> <th>  R-squared:         </th> <td>   0.558</td> \n",
              "</tr>\n",
              "<tr>\n",
              "  <th>Model:</th>                   <td>OLS</td>        <th>  Adj. R-squared:    </th> <td>   0.558</td> \n",
              "</tr>\n",
              "<tr>\n",
              "  <th>Method:</th>             <td>Least Squares</td>   <th>  F-statistic:       </th> <td>   813.9</td> \n",
              "</tr>\n",
              "<tr>\n",
              "  <th>Date:</th>             <td>Wed, 16 Jun 2021</td>  <th>  Prob (F-statistic):</th>  <td>  0.00</td>  \n",
              "</tr>\n",
              "<tr>\n",
              "  <th>Time:</th>                 <td>23:01:26</td>      <th>  Log-Likelihood:    </th> <td> -70808.</td> \n",
              "</tr>\n",
              "<tr>\n",
              "  <th>No. Observations:</th>      <td>  8379</td>       <th>  AIC:               </th> <td>1.416e+05</td>\n",
              "</tr>\n",
              "<tr>\n",
              "  <th>Df Residuals:</th>          <td>  8365</td>       <th>  BIC:               </th> <td>1.417e+05</td>\n",
              "</tr>\n",
              "<tr>\n",
              "  <th>Df Model:</th>              <td>    13</td>       <th>                     </th>     <td> </td>    \n",
              "</tr>\n",
              "<tr>\n",
              "  <th>Covariance Type:</th>      <td>nonrobust</td>     <th>                     </th>     <td> </td>    \n",
              "</tr>\n",
              "</table>\n",
              "<table class=\"simpletable\">\n",
              "<tr>\n",
              "                <td></td>                   <th>coef</th>     <th>std err</th>      <th>t</th>      <th>P>|t|</th>  <th>[0.025</th>    <th>0.975]</th>  \n",
              "</tr>\n",
              "<tr>\n",
              "  <th>Intercept</th>                     <td>  463.5580</td> <td>  131.140</td> <td>    3.535</td> <td> 0.000</td> <td>  206.492</td> <td>  720.624</td>\n",
              "</tr>\n",
              "<tr>\n",
              "  <th>Item_Weight</th>                   <td>   -0.8289</td> <td>    2.921</td> <td>   -0.284</td> <td> 0.777</td> <td>   -6.554</td> <td>    4.896</td>\n",
              "</tr>\n",
              "<tr>\n",
              "  <th>Item_MRP</th>                      <td>   15.7924</td> <td>    0.199</td> <td>   79.374</td> <td> 0.000</td> <td>   15.402</td> <td>   16.182</td>\n",
              "</tr>\n",
              "<tr>\n",
              "  <th>Age</th>                           <td>  -40.0510</td> <td>   10.260</td> <td>   -3.904</td> <td> 0.000</td> <td>  -60.162</td> <td>  -19.940</td>\n",
              "</tr>\n",
              "<tr>\n",
              "  <th>Item_Fat_Content_Low_Fat</th>      <td>  207.3178</td> <td>   66.819</td> <td>    3.103</td> <td> 0.002</td> <td>   76.336</td> <td>  338.300</td>\n",
              "</tr>\n",
              "<tr>\n",
              "  <th>Item_Fat_Content_Regular</th>      <td>  256.2402</td> <td>   66.864</td> <td>    3.832</td> <td> 0.000</td> <td>  125.169</td> <td>  387.311</td>\n",
              "</tr>\n",
              "<tr>\n",
              "  <th>Outlet_Size_High</th>              <td>  765.7665</td> <td>  210.642</td> <td>    3.635</td> <td> 0.000</td> <td>  352.855</td> <td> 1178.678</td>\n",
              "</tr>\n",
              "<tr>\n",
              "  <th>Outlet_Size_Medium</th>            <td> -188.9023</td> <td>   48.143</td> <td>   -3.924</td> <td> 0.000</td> <td> -283.275</td> <td>  -94.529</td>\n",
              "</tr>\n",
              "<tr>\n",
              "  <th>Outlet_Size_Small</th>             <td> -113.3062</td> <td>   46.830</td> <td>   -2.420</td> <td> 0.016</td> <td> -205.104</td> <td>  -21.508</td>\n",
              "</tr>\n",
              "<tr>\n",
              "  <th>Outlet_Location_Type_Tier_1</th>   <td>  395.6883</td> <td>  110.305</td> <td>    3.587</td> <td> 0.000</td> <td>  179.463</td> <td>  611.914</td>\n",
              "</tr>\n",
              "<tr>\n",
              "  <th>Outlet_Location_Type_Tier_2</th>   <td>  166.0173</td> <td>   57.719</td> <td>    2.876</td> <td> 0.004</td> <td>   52.873</td> <td>  279.161</td>\n",
              "</tr>\n",
              "<tr>\n",
              "  <th>Outlet_Location_Type_Tier_3</th>   <td>  -98.1476</td> <td>   52.328</td> <td>   -1.876</td> <td> 0.061</td> <td> -200.724</td> <td>    4.429</td>\n",
              "</tr>\n",
              "<tr>\n",
              "  <th>Outlet_Type_Grocery_Store</th>     <td>-1520.2524</td> <td>   67.563</td> <td>  -22.501</td> <td> 0.000</td> <td>-1652.693</td> <td>-1387.812</td>\n",
              "</tr>\n",
              "<tr>\n",
              "  <th>Outlet_Type_Supermarket_Type1</th> <td>  -79.0225</td> <td>   85.114</td> <td>   -0.928</td> <td> 0.353</td> <td> -245.866</td> <td>   87.821</td>\n",
              "</tr>\n",
              "<tr>\n",
              "  <th>Outlet_Type_Supermarket_Type2</th> <td> -313.1069</td> <td>   70.593</td> <td>   -4.435</td> <td> 0.000</td> <td> -451.487</td> <td> -174.727</td>\n",
              "</tr>\n",
              "<tr>\n",
              "  <th>Outlet_Type_Supermarket_Type3</th> <td> 2375.9398</td> <td>  197.568</td> <td>   12.026</td> <td> 0.000</td> <td> 1988.657</td> <td> 2763.222</td>\n",
              "</tr>\n",
              "<tr>\n",
              "  <th>Item_Visibility_bins_Low_Viz</th>  <td>  164.8234</td> <td>   47.147</td> <td>    3.496</td> <td> 0.000</td> <td>   72.404</td> <td>  257.243</td>\n",
              "</tr>\n",
              "<tr>\n",
              "  <th>Item_Visibility_bins_Viz</th>      <td>  162.1705</td> <td>   48.075</td> <td>    3.373</td> <td> 0.001</td> <td>   67.932</td> <td>  256.409</td>\n",
              "</tr>\n",
              "<tr>\n",
              "  <th>Item_Visibility_bins_High_Viz</th> <td>  136.5641</td> <td>   51.883</td> <td>    2.632</td> <td> 0.008</td> <td>   34.861</td> <td>  238.267</td>\n",
              "</tr>\n",
              "</table>\n",
              "<table class=\"simpletable\">\n",
              "<tr>\n",
              "  <th>Omnibus:</th>       <td>909.825</td> <th>  Durbin-Watson:     </th> <td>   2.005</td>\n",
              "</tr>\n",
              "<tr>\n",
              "  <th>Prob(Omnibus):</th> <td> 0.000</td>  <th>  Jarque-Bera (JB):  </th> <td>2167.563</td>\n",
              "</tr>\n",
              "<tr>\n",
              "  <th>Skew:</th>          <td> 0.646</td>  <th>  Prob(JB):          </th> <td>    0.00</td>\n",
              "</tr>\n",
              "<tr>\n",
              "  <th>Kurtosis:</th>      <td> 5.131</td>  <th>  Cond. No.          </th> <td>2.05e+18</td>\n",
              "</tr>\n",
              "</table><br/><br/>Notes:<br/>[1] Standard Errors assume that the covariance matrix of the errors is correctly specified.<br/>[2] The smallest eigenvalue is 4.84e-29. This might indicate that there are<br/>strong multicollinearity problems or that the design matrix is singular."
            ],
            "text/plain": [
              "<class 'statsmodels.iolib.summary.Summary'>\n",
              "\"\"\"\n",
              "                            OLS Regression Results                            \n",
              "==============================================================================\n",
              "Dep. Variable:      Item_Outlet_Sales   R-squared:                       0.558\n",
              "Model:                            OLS   Adj. R-squared:                  0.558\n",
              "Method:                 Least Squares   F-statistic:                     813.9\n",
              "Date:                Wed, 16 Jun 2021   Prob (F-statistic):               0.00\n",
              "Time:                        23:01:26   Log-Likelihood:                -70808.\n",
              "No. Observations:                8379   AIC:                         1.416e+05\n",
              "Df Residuals:                    8365   BIC:                         1.417e+05\n",
              "Df Model:                          13                                         \n",
              "Covariance Type:            nonrobust                                         \n",
              "=================================================================================================\n",
              "                                    coef    std err          t      P>|t|      [0.025      0.975]\n",
              "-------------------------------------------------------------------------------------------------\n",
              "Intercept                       463.5580    131.140      3.535      0.000     206.492     720.624\n",
              "Item_Weight                      -0.8289      2.921     -0.284      0.777      -6.554       4.896\n",
              "Item_MRP                         15.7924      0.199     79.374      0.000      15.402      16.182\n",
              "Age                             -40.0510     10.260     -3.904      0.000     -60.162     -19.940\n",
              "Item_Fat_Content_Low_Fat        207.3178     66.819      3.103      0.002      76.336     338.300\n",
              "Item_Fat_Content_Regular        256.2402     66.864      3.832      0.000     125.169     387.311\n",
              "Outlet_Size_High                765.7665    210.642      3.635      0.000     352.855    1178.678\n",
              "Outlet_Size_Medium             -188.9023     48.143     -3.924      0.000    -283.275     -94.529\n",
              "Outlet_Size_Small              -113.3062     46.830     -2.420      0.016    -205.104     -21.508\n",
              "Outlet_Location_Type_Tier_1     395.6883    110.305      3.587      0.000     179.463     611.914\n",
              "Outlet_Location_Type_Tier_2     166.0173     57.719      2.876      0.004      52.873     279.161\n",
              "Outlet_Location_Type_Tier_3     -98.1476     52.328     -1.876      0.061    -200.724       4.429\n",
              "Outlet_Type_Grocery_Store     -1520.2524     67.563    -22.501      0.000   -1652.693   -1387.812\n",
              "Outlet_Type_Supermarket_Type1   -79.0225     85.114     -0.928      0.353    -245.866      87.821\n",
              "Outlet_Type_Supermarket_Type2  -313.1069     70.593     -4.435      0.000    -451.487    -174.727\n",
              "Outlet_Type_Supermarket_Type3  2375.9398    197.568     12.026      0.000    1988.657    2763.222\n",
              "Item_Visibility_bins_Low_Viz    164.8234     47.147      3.496      0.000      72.404     257.243\n",
              "Item_Visibility_bins_Viz        162.1705     48.075      3.373      0.001      67.932     256.409\n",
              "Item_Visibility_bins_High_Viz   136.5641     51.883      2.632      0.008      34.861     238.267\n",
              "==============================================================================\n",
              "Omnibus:                      909.825   Durbin-Watson:                   2.005\n",
              "Prob(Omnibus):                  0.000   Jarque-Bera (JB):             2167.563\n",
              "Skew:                           0.646   Prob(JB):                         0.00\n",
              "Kurtosis:                       5.131   Cond. No.                     2.05e+18\n",
              "==============================================================================\n",
              "\n",
              "Notes:\n",
              "[1] Standard Errors assume that the covariance matrix of the errors is correctly specified.\n",
              "[2] The smallest eigenvalue is 4.84e-29. This might indicate that there are\n",
              "strong multicollinearity problems or that the design matrix is singular.\n",
              "\"\"\""
            ]
          },
          "execution_count": 177,
          "metadata": {},
          "output_type": "execute_result"
        }
      ]
    },
    {
      "cell_type": "code",
      "metadata": {
        "id": "0xolGn8VCm_K"
      },
      "source": [
        "from sklearn.model_selection import train_test_split"
      ],
      "execution_count": null,
      "outputs": []
    },
    {
      "cell_type": "code",
      "metadata": {
        "id": "za92YIbyCm_K"
      },
      "source": [
        "trainX, testX, trainY, testY = train_test_split(X,y, test_size=0.3)"
      ],
      "execution_count": null,
      "outputs": []
    },
    {
      "cell_type": "code",
      "metadata": {
        "id": "sUGI43sZCm_L",
        "outputId": "f3c4f2ce-b62e-48ea-82e8-53173b25c830"
      },
      "source": [
        "trainX.shape, testX.shape, trainY.shape, testY.shape"
      ],
      "execution_count": null,
      "outputs": [
        {
          "data": {
            "text/plain": [
              "((5865, 18), (2514, 18), (5865,), (2514,))"
            ]
          },
          "execution_count": 164,
          "metadata": {},
          "output_type": "execute_result"
        }
      ]
    },
    {
      "cell_type": "code",
      "metadata": {
        "id": "DDPXlDDqCm_L"
      },
      "source": [
        "lm = LinearRegression()"
      ],
      "execution_count": null,
      "outputs": []
    },
    {
      "cell_type": "code",
      "metadata": {
        "id": "i1oy36GaCm_L",
        "outputId": "4a33a9ca-3b4e-4b5e-f37c-e8a53f38819f"
      },
      "source": [
        "lm.fit(trainX, trainY)"
      ],
      "execution_count": null,
      "outputs": [
        {
          "data": {
            "text/plain": [
              "LinearRegression()"
            ]
          },
          "execution_count": 166,
          "metadata": {},
          "output_type": "execute_result"
        }
      ]
    },
    {
      "cell_type": "code",
      "metadata": {
        "id": "V62hNJhbCm_L",
        "outputId": "69836b58-7276-4b28-b562-5a1427c53c80"
      },
      "source": [
        "lm.score(trainX, trainY)"
      ],
      "execution_count": null,
      "outputs": [
        {
          "data": {
            "text/plain": [
              "0.5490109193237103"
            ]
          },
          "execution_count": 167,
          "metadata": {},
          "output_type": "execute_result"
        }
      ]
    },
    {
      "cell_type": "code",
      "metadata": {
        "id": "AR2lx5mNCm_L",
        "outputId": "258659f1-eff5-404a-89a5-90a69c181daf"
      },
      "source": [
        "lm.score(testX, testY)"
      ],
      "execution_count": null,
      "outputs": [
        {
          "data": {
            "text/plain": [
              "0.5797190369592693"
            ]
          },
          "execution_count": 168,
          "metadata": {},
          "output_type": "execute_result"
        }
      ]
    },
    {
      "cell_type": "code",
      "metadata": {
        "id": "d9cxAb2FCm_L",
        "outputId": "5996e500-afb0-4fa8-8dce-2ad93e5e9f9a"
      },
      "source": [
        "lm.intercept_"
      ],
      "execution_count": null,
      "outputs": [
        {
          "data": {
            "text/plain": [
              "1501.6174695370773"
            ]
          },
          "execution_count": 129,
          "metadata": {},
          "output_type": "execute_result"
        }
      ]
    },
    {
      "cell_type": "code",
      "metadata": {
        "id": "zhz14f0gCm_L",
        "outputId": "fb1fd7bc-0b4a-4e7a-b328-33d3188dc964"
      },
      "source": [
        "lm.coef_"
      ],
      "execution_count": null,
      "outputs": [
        {
          "data": {
            "text/plain": [
              "array([-1.26386909e+00,  1.58582180e+01, -4.55796094e+01, -4.27133913e+01,\n",
              "        4.27133913e+01,  7.45949091e+02, -4.07867259e+02, -3.38081832e+02,\n",
              "        2.83293974e+02,  4.38825794e+01, -3.27176553e+02, -1.60899531e+03,\n",
              "       -2.77146210e+02, -4.83317461e+02,  2.36945898e+03, -7.56736734e+00,\n",
              "        1.19992309e+01, -4.43186360e+00])"
            ]
          },
          "execution_count": 130,
          "metadata": {},
          "output_type": "execute_result"
        }
      ]
    },
    {
      "cell_type": "code",
      "metadata": {
        "id": "8rJ7n1G0Cm_L",
        "outputId": "d7ca41c4-cf80-4ffb-b144-2e219cc54a30"
      },
      "source": [
        "train.columns"
      ],
      "execution_count": null,
      "outputs": [
        {
          "data": {
            "text/plain": [
              "Index(['Item_Identifier', 'Item_Weight', 'Item_Visibility', 'Item_Type',\n",
              "       'Item_MRP', 'Outlet_Identifier', 'Outlet_Establishment_Year',\n",
              "       'Item_Outlet_Sales', 'Age', 'Item_Fat_Content_Low Fat',\n",
              "       'Item_Fat_Content_Regular', 'Outlet_Size_High', 'Outlet_Size_Medium',\n",
              "       'Outlet_Size_Small', 'Outlet_Location_Type_Tier 1',\n",
              "       'Outlet_Location_Type_Tier 2', 'Outlet_Location_Type_Tier 3',\n",
              "       'Outlet_Type_Grocery Store', 'Outlet_Type_Supermarket Type1',\n",
              "       'Outlet_Type_Supermarket Type2', 'Outlet_Type_Supermarket Type3',\n",
              "       'Item_Visibility_bins_Low Viz', 'Item_Visibility_bins_Viz',\n",
              "       'Item_Visibility_bins_High Viz'],\n",
              "      dtype='object')"
            ]
          },
          "execution_count": 131,
          "metadata": {},
          "output_type": "execute_result"
        }
      ]
    },
    {
      "cell_type": "code",
      "metadata": {
        "id": "jEZjNSeNCm_L"
      },
      "source": [
        "predicted_y = lm.predict(testX)"
      ],
      "execution_count": null,
      "outputs": []
    },
    {
      "cell_type": "code",
      "metadata": {
        "scrolled": true,
        "id": "M7ny98UcCm_L",
        "outputId": "bf0be633-8e01-42df-98d5-4f0684100e21"
      },
      "source": [
        "predicted_y"
      ],
      "execution_count": null,
      "outputs": [
        {
          "data": {
            "text/plain": [
              "array([3409.06435639, 4252.3967275 , 1711.23132816, ..., 2981.7654198 ,\n",
              "       1696.07809261, 2254.18383437])"
            ]
          },
          "execution_count": 133,
          "metadata": {},
          "output_type": "execute_result"
        }
      ]
    },
    {
      "cell_type": "code",
      "metadata": {
        "id": "alH-XJLtCm_M"
      },
      "source": [
        "from sklearn.linear_model import Ridge, Lasso"
      ],
      "execution_count": null,
      "outputs": []
    },
    {
      "cell_type": "code",
      "metadata": {
        "id": "SV9F-RluCm_M"
      },
      "source": [
        "ridge = Ridge(alpha=0.01)"
      ],
      "execution_count": null,
      "outputs": []
    },
    {
      "cell_type": "code",
      "metadata": {
        "id": "0tYWKsd0Cm_M",
        "outputId": "ab55702a-39b6-4a41-987a-0b1055cb76bb"
      },
      "source": [
        "ridge.fit(trainX, trainY)"
      ],
      "execution_count": null,
      "outputs": [
        {
          "data": {
            "text/plain": [
              "Ridge(alpha=0.01)"
            ]
          },
          "execution_count": 149,
          "metadata": {},
          "output_type": "execute_result"
        }
      ]
    },
    {
      "cell_type": "code",
      "metadata": {
        "id": "FwfAcjGGCm_M",
        "outputId": "61f6a9fd-d9a4-46c8-f571-809e94ab87bf"
      },
      "source": [
        "ridge.score(trainX, trainY)"
      ],
      "execution_count": null,
      "outputs": [
        {
          "data": {
            "text/plain": [
              "0.5571868096780206"
            ]
          },
          "execution_count": 150,
          "metadata": {},
          "output_type": "execute_result"
        }
      ]
    },
    {
      "cell_type": "code",
      "metadata": {
        "id": "cRh6ZkXdCm_M",
        "outputId": "e8617e84-c928-4787-ee2d-b2c66429f618"
      },
      "source": [
        "ridge.score(testX, testY)"
      ],
      "execution_count": null,
      "outputs": [
        {
          "data": {
            "text/plain": [
              "0.560462347885149"
            ]
          },
          "execution_count": 151,
          "metadata": {},
          "output_type": "execute_result"
        }
      ]
    },
    {
      "cell_type": "code",
      "metadata": {
        "id": "4ZyahLaKCm_M"
      },
      "source": [
        "from sklearn.model_selection import GridSearchCV"
      ],
      "execution_count": null,
      "outputs": []
    },
    {
      "cell_type": "code",
      "metadata": {
        "id": "S87PIQEjCm_M"
      },
      "source": [
        "parameters = {'alpha': [1, 0.1, 0.01, 0.001, 0.0001]} "
      ],
      "execution_count": null,
      "outputs": []
    },
    {
      "cell_type": "code",
      "metadata": {
        "id": "kP3us6ogCm_M"
      },
      "source": [
        "gscv = GridSearchCV(ridge, param_grid=parameters, cv=3)"
      ],
      "execution_count": null,
      "outputs": []
    },
    {
      "cell_type": "code",
      "metadata": {
        "id": "jZ7E1CqVCm_M",
        "outputId": "20cb4f26-fae0-4144-ebd9-9006985f1b9e"
      },
      "source": [
        "gscv.fit(trainX, trainY)"
      ],
      "execution_count": null,
      "outputs": [
        {
          "data": {
            "text/plain": [
              "GridSearchCV(cv=3, estimator=Ridge(alpha=0.05),\n",
              "             param_grid={'alpha': [1, 0.1, 0.01, 0.001, 0.0001]})"
            ]
          },
          "execution_count": 142,
          "metadata": {},
          "output_type": "execute_result"
        }
      ]
    },
    {
      "cell_type": "code",
      "metadata": {
        "id": "qSVI0sgTCm_M",
        "outputId": "c430c63e-9088-4b5d-84a5-9768b9a71cdf"
      },
      "source": [
        "gscv.best_params_['alpha']"
      ],
      "execution_count": null,
      "outputs": [
        {
          "data": {
            "text/plain": [
              "0.01"
            ]
          },
          "execution_count": 143,
          "metadata": {},
          "output_type": "execute_result"
        }
      ]
    },
    {
      "cell_type": "code",
      "metadata": {
        "id": "DX5NcrlmCm_M"
      },
      "source": [
        "lasso = Lasso(alpha=0.01)"
      ],
      "execution_count": null,
      "outputs": []
    },
    {
      "cell_type": "code",
      "metadata": {
        "id": "WFeMJ0naCm_M",
        "outputId": "681d3b71-f431-408f-daa9-e0bf8c9d8160"
      },
      "source": [
        "lasso.fit(trainX, trainY)"
      ],
      "execution_count": null,
      "outputs": [
        {
          "data": {
            "text/plain": [
              "Lasso(alpha=0.01)"
            ]
          },
          "execution_count": 145,
          "metadata": {},
          "output_type": "execute_result"
        }
      ]
    },
    {
      "cell_type": "code",
      "metadata": {
        "id": "yejaYUENCm_M",
        "outputId": "dc0b54e0-dce3-4eb5-95ca-7bce090814e1"
      },
      "source": [
        "lasso.score(trainX, trainY)"
      ],
      "execution_count": null,
      "outputs": [
        {
          "data": {
            "text/plain": [
              "0.5571867387343152"
            ]
          },
          "execution_count": 146,
          "metadata": {},
          "output_type": "execute_result"
        }
      ]
    },
    {
      "cell_type": "code",
      "metadata": {
        "id": "iODFDDnhCm_N",
        "outputId": "7f0eaf2e-ff7f-4cd9-9ee2-183556be32fa"
      },
      "source": [
        "lasso.score(testX, testY)"
      ],
      "execution_count": null,
      "outputs": [
        {
          "data": {
            "text/plain": [
              "0.560472611681621"
            ]
          },
          "execution_count": 147,
          "metadata": {},
          "output_type": "execute_result"
        }
      ]
    },
    {
      "cell_type": "code",
      "metadata": {
        "id": "0gVS5gaPCm_N"
      },
      "source": [
        "parameters = {'alpha': [1, 0.1, 0.01, 0.001, 0.0001]} "
      ],
      "execution_count": null,
      "outputs": []
    },
    {
      "cell_type": "code",
      "metadata": {
        "id": "dFc_vFL5Cm_N"
      },
      "source": [
        "gscv = GridSearchCV(lasso, param_grid=parameters, cv=3)"
      ],
      "execution_count": null,
      "outputs": []
    },
    {
      "cell_type": "code",
      "metadata": {
        "collapsed": true,
        "id": "5ikoV8dlCm_N",
        "outputId": "b51b2ebd-7368-474e-ae9e-6ddc5fed719c"
      },
      "source": [
        "gscv.fit(trainX, trainY)"
      ],
      "execution_count": null,
      "outputs": [
        {
          "name": "stderr",
          "output_type": "stream",
          "text": [
            "/opt/anaconda3/lib/python3.7/site-packages/sklearn/linear_model/_coordinate_descent.py:531: ConvergenceWarning: Objective did not converge. You might want to increase the number of iterations. Duality gap: 373592944.39467764, tolerance: 1144430.0206604719\n",
            "  positive)\n",
            "/opt/anaconda3/lib/python3.7/site-packages/sklearn/linear_model/_coordinate_descent.py:531: ConvergenceWarning: Objective did not converge. You might want to increase the number of iterations. Duality gap: 388110896.1201143, tolerance: 1166503.9834491448\n",
            "  positive)\n",
            "/opt/anaconda3/lib/python3.7/site-packages/sklearn/linear_model/_coordinate_descent.py:531: ConvergenceWarning: Objective did not converge. You might want to increase the number of iterations. Duality gap: 390469003.6438403, tolerance: 1147149.6900253918\n",
            "  positive)\n",
            "/opt/anaconda3/lib/python3.7/site-packages/sklearn/linear_model/_coordinate_descent.py:531: ConvergenceWarning: Objective did not converge. You might want to increase the number of iterations. Duality gap: 478133846.4716625, tolerance: 1144430.0206604719\n",
            "  positive)\n",
            "/opt/anaconda3/lib/python3.7/site-packages/sklearn/linear_model/_coordinate_descent.py:531: ConvergenceWarning: Objective did not converge. You might want to increase the number of iterations. Duality gap: 390590582.8205333, tolerance: 1166503.9834491448\n",
            "  positive)\n",
            "/opt/anaconda3/lib/python3.7/site-packages/sklearn/linear_model/_coordinate_descent.py:531: ConvergenceWarning: Objective did not converge. You might want to increase the number of iterations. Duality gap: 407099918.8463049, tolerance: 1147149.6900253918\n",
            "  positive)\n"
          ]
        },
        {
          "data": {
            "text/plain": [
              "GridSearchCV(cv=3, estimator=Lasso(alpha=0.01),\n",
              "             param_grid={'alpha': [1, 0.1, 0.01, 0.001, 0.0001]})"
            ]
          },
          "execution_count": 155,
          "metadata": {},
          "output_type": "execute_result"
        }
      ]
    },
    {
      "cell_type": "code",
      "metadata": {
        "id": "yZO_ojI9Cm_N",
        "outputId": "c8170c12-c6e1-4099-ea3d-73d1436a9221"
      },
      "source": [
        "gscv.best_params_['alpha']"
      ],
      "execution_count": null,
      "outputs": [
        {
          "data": {
            "text/plain": [
              "0.01"
            ]
          },
          "execution_count": 156,
          "metadata": {},
          "output_type": "execute_result"
        }
      ]
    },
    {
      "cell_type": "code",
      "metadata": {
        "id": "R4adZg_JCm_N"
      },
      "source": [
        ""
      ],
      "execution_count": null,
      "outputs": []
    },
    {
      "cell_type": "code",
      "metadata": {
        "id": "JYCzy9VaCm_N"
      },
      "source": [
        ""
      ],
      "execution_count": null,
      "outputs": []
    }
  ]
}